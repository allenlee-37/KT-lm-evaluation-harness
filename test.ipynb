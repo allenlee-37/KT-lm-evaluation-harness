{
 "cells": [
  {
   "cell_type": "code",
   "execution_count": 36,
   "metadata": {},
   "outputs": [],
   "source": [
    "import json\n",
    "import pandas as pd\n",
    "\n",
    "# JSONL 파일 경로\n",
    "file_path = '/Users/master/Documents/work/KT/lm-evaluation-harness/output/gpt-4o/samples_leaderboard_musr_team_allocation_2024-11-22T00-18-24.113549.jsonl'\n",
    "\n",
    "# JSONL 파일 읽기\n",
    "data = []\n",
    "with open(file_path, 'r', encoding='utf-8') as file:\n",
    "    for line in file:\n",
    "        try:\n",
    "            # 각 줄을 JSON 객체로 변환하여 리스트에 추가\n",
    "            data.append(json.loads(line))\n",
    "        except json.JSONDecodeError as e:\n",
    "            print(f\"JSONDecodeError: {e} - Line: {line}\")"
   ]
  },
  {
   "cell_type": "code",
   "execution_count": null,
   "metadata": {},
   "outputs": [],
   "source": []
  },
  {
   "cell_type": "code",
   "execution_count": 42,
   "metadata": {},
   "outputs": [
    {
     "data": {
      "text/plain": [
       "{'gen_args_0': {'arg_0': ['[{\"role\": \"user\", \"content\": \"Please answer the following question with (a), (b), (c), (d) \\\\n\\\\nNarrative: Amidst the vibrant chaos of the Redwood Zoo, nestled in the heart of the city\\'s sprawling jungle, the task of assigning roles was a crucial cog in the machinery of its operation. As the manager, the responsibility of allocating Olivia, Alex, and Mia to the positions of Animal Caretaker and Exhibit Cleaner presented an intriguing conundrum. Each individual, with their distinct personalities and skill sets, added a layer of complexity to this assignment puzzle.\\\\n\\\\nLet\\'s begin with Alex, the tall lad with bright eyes, whose history with the mighty beast of the animal kingdom, lacked a certain comfort. The lad, known to express an almost innate unease around animals larger than him, fell short of the prerequisites for an Animal Caretaker. His comfort zone extended to the four-legged companions in our homes, a sentiment I withheld from the petting zoo section of our park. Yet, his association and collaboration with Mia had seen quite the successes in their high school club\\'s fundraising initiatives.\\\\n\\\\nHowever, his relationship with the gentle Olivia was not as seamless. Alex often mentioned feeling ostracized due to Olivia\\'s tendency to maintain her distance. This seemingly innocent avoidance stirred disquiet within our hushed ranks. And all this, stemming from a disagreement rooted in their previous shared workplaces. Unresolved perhaps, but a factor nonetheless.\\\\n\\\\nThen, there was Mia, the determined bright spark, whose affinity for cleanliness would often bemuse us. She would spend her spare time in her immaculate home cleaning and reorganizing, while her enthusiasm for a spotless Exhibit could not be underestimated. However, her overly thorough methods would invariably result in clashes with Olivia, who criticized her for crossing some form of unspoken boundary.\\\\n\\\\nMia too had her phobias, the gravelly roars of the zoo\\'s majestic lion had once left her shaken and worried. Loud noises had a similar effect leaving her in a state of nervous terror, much like that of the petite animals held within our barriers. Yet, she was all smiles and peasant conversation around Alex during lunch breaks, sharing a sense of humor that lightened the mood of our everyday grind.\\\\n\\\\nFinally, subdued Olivia, a soul strangled with allergies, and a deep-seated fear for wild animals. An incident with a chimp in her past wove tales of nightmarish betrayal, enough to send her away from the animal exhibits during her zoo visits. Potent elements of dust and pollen resulted in uncontrolled sneezing fits, a remainder from her days at the school as a custodian, responsible for the cleanliness and maintenance.\\\\n\\\\nThree souls; Animals to be cared for, Exhibits to be cleaned. Assigning them was always going to be an enigma for anyone navigating the zoological labyrinth. Love for animals, discomfort, alliances, conflicts; each factor extraordinarily crucial in shaping not just the overall productivity but also the personal growth of each of these individuals at the Redwood Zoo.\\\\n\\\\nQuestion: Given the story, how would you uniquely allocate each person to make sure both tasks are accomplished efficiently?\\\\n\\\\nChoices: (a) - Animal Caretaker: Alex, Exhibit Cleaner: Mia and Olivia\\\\n(b) - Animal Caretaker: Olivia, Exhibit Cleaner: Alex and Mia\\\\n(c) - Animal Caretaker: Mia, Exhibit Cleaner: Alex and Olivia\\\\n\\\\n\\\\nAnswer: \"}]'],\n",
       "  'arg_1': {'do_sample': False, 'until': ['Question:', '</s>', '<|im_end|>']}}}"
      ]
     },
     "execution_count": 42,
     "metadata": {},
     "output_type": "execute_result"
    }
   ],
   "source": [
    "data[0].keys()\n",
    "data[0].get('arguments')"
   ]
  },
  {
   "cell_type": "code",
   "execution_count": 40,
   "metadata": {},
   "outputs": [
    {
     "data": {
      "text/html": [
       "<div>\n",
       "<style scoped>\n",
       "    .dataframe tbody tr th:only-of-type {\n",
       "        vertical-align: middle;\n",
       "    }\n",
       "\n",
       "    .dataframe tbody tr th {\n",
       "        vertical-align: top;\n",
       "    }\n",
       "\n",
       "    .dataframe thead th {\n",
       "        text-align: right;\n",
       "    }\n",
       "</style>\n",
       "<table border=\"1\" class=\"dataframe\">\n",
       "  <thead>\n",
       "    <tr style=\"text-align: right;\">\n",
       "      <th></th>\n",
       "      <th>targets</th>\n",
       "      <th>responses</th>\n",
       "      <th>filtered_responses</th>\n",
       "      <th>scores</th>\n",
       "    </tr>\n",
       "  </thead>\n",
       "  <tbody>\n",
       "    <tr>\n",
       "      <th>0</th>\n",
       "      <td>(a)</td>\n",
       "      <td>[[(c) - Animal Caretaker: Mia, Exhibit Cleaner...</td>\n",
       "      <td>[(c)]</td>\n",
       "      <td>0.0</td>\n",
       "    </tr>\n",
       "    <tr>\n",
       "      <th>1</th>\n",
       "      <td>(b)</td>\n",
       "      <td>[[(c) - Recitation: Rachel, Scoring: David and...</td>\n",
       "      <td>[(c)]</td>\n",
       "      <td>0.0</td>\n",
       "    </tr>\n",
       "    <tr>\n",
       "      <th>2</th>\n",
       "      <td>(b)</td>\n",
       "      <td>[[(b) - Classroom Teaching: Andrea, Outdoor Su...</td>\n",
       "      <td>[(b)]</td>\n",
       "      <td>1.0</td>\n",
       "    </tr>\n",
       "    <tr>\n",
       "      <th>3</th>\n",
       "      <td>(a)</td>\n",
       "      <td>[[(b) - Acting: Emma, Stage Designing: Liam an...</td>\n",
       "      <td>[(b)]</td>\n",
       "      <td>0.0</td>\n",
       "    </tr>\n",
       "    <tr>\n",
       "      <th>4</th>\n",
       "      <td>(a)</td>\n",
       "      <td>[[(d) - Manage court: Eleanor, Lead armies: No...</td>\n",
       "      <td>[(d)]</td>\n",
       "      <td>0.0</td>\n",
       "    </tr>\n",
       "    <tr>\n",
       "      <th>5</th>\n",
       "      <td>(b)</td>\n",
       "      <td>[[(c) - Groundwork: James, Roller Operator: Li...</td>\n",
       "      <td>[(c)]</td>\n",
       "      <td>0.0</td>\n",
       "    </tr>\n",
       "    <tr>\n",
       "      <th>6</th>\n",
       "      <td>(`)</td>\n",
       "      <td>[[(a) - Creating Art: Rebecca, Selling Art: Ma...</td>\n",
       "      <td>[(a)]</td>\n",
       "      <td>0.0</td>\n",
       "    </tr>\n",
       "    <tr>\n",
       "      <th>7</th>\n",
       "      <td>(a)</td>\n",
       "      <td>[[(b) - Sports Trainer: Jack, Medical Assistan...</td>\n",
       "      <td>[(b)]</td>\n",
       "      <td>0.0</td>\n",
       "    </tr>\n",
       "    <tr>\n",
       "      <th>8</th>\n",
       "      <td>(a)</td>\n",
       "      <td>[[(b) - Clearing debris: Oliver, Delivering su...</td>\n",
       "      <td>[(b)]</td>\n",
       "      <td>0.0</td>\n",
       "    </tr>\n",
       "    <tr>\n",
       "      <th>9</th>\n",
       "      <td>(`)</td>\n",
       "      <td>[[(c) - Performing Musician: David, Sound and ...</td>\n",
       "      <td>[(c)]</td>\n",
       "      <td>0.0</td>\n",
       "    </tr>\n",
       "  </tbody>\n",
       "</table>\n",
       "</div>"
      ],
      "text/plain": [
       "  targets                                          responses  \\\n",
       "0     (a)  [[(c) - Animal Caretaker: Mia, Exhibit Cleaner...   \n",
       "1     (b)  [[(c) - Recitation: Rachel, Scoring: David and...   \n",
       "2     (b)  [[(b) - Classroom Teaching: Andrea, Outdoor Su...   \n",
       "3     (a)  [[(b) - Acting: Emma, Stage Designing: Liam an...   \n",
       "4     (a)  [[(d) - Manage court: Eleanor, Lead armies: No...   \n",
       "5     (b)  [[(c) - Groundwork: James, Roller Operator: Li...   \n",
       "6     (`)  [[(a) - Creating Art: Rebecca, Selling Art: Ma...   \n",
       "7     (a)  [[(b) - Sports Trainer: Jack, Medical Assistan...   \n",
       "8     (a)  [[(b) - Clearing debris: Oliver, Delivering su...   \n",
       "9     (`)  [[(c) - Performing Musician: David, Sound and ...   \n",
       "\n",
       "  filtered_responses  scores  \n",
       "0              [(c)]     0.0  \n",
       "1              [(c)]     0.0  \n",
       "2              [(b)]     1.0  \n",
       "3              [(b)]     0.0  \n",
       "4              [(d)]     0.0  \n",
       "5              [(c)]     0.0  \n",
       "6              [(a)]     0.0  \n",
       "7              [(b)]     0.0  \n",
       "8              [(b)]     0.0  \n",
       "9              [(c)]     0.0  "
      ]
     },
     "execution_count": 40,
     "metadata": {},
     "output_type": "execute_result"
    }
   ],
   "source": [
    "targets = []\n",
    "responses = []\n",
    "filtered_responses = [] \n",
    "scores = []\n",
    "for index, item in enumerate(data):\n",
    "    targets.append(item.get('target'))\n",
    "    responses.append(item.get('resps'))\n",
    "    filtered_responses.append(item.get('filtered_resps'))\n",
    "    scores.append(item.get('exact_match'))\n",
    "\n",
    "df = pd.DataFrame({'targets': targets, 'responses': responses, 'filtered_responses': filtered_responses, 'scores': scores})\n",
    "# df[df['scores'] == 1.0]\n",
    "df"
   ]
  },
  {
   "cell_type": "code",
   "execution_count": null,
   "metadata": {},
   "outputs": [],
   "source": []
  }
 ],
 "metadata": {
  "kernelspec": {
   "display_name": "vllm",
   "language": "python",
   "name": "python3"
  },
  "language_info": {
   "codemirror_mode": {
    "name": "ipython",
    "version": 3
   },
   "file_extension": ".py",
   "mimetype": "text/x-python",
   "name": "python",
   "nbconvert_exporter": "python",
   "pygments_lexer": "ipython3",
   "version": "3.13.0"
  }
 },
 "nbformat": 4,
 "nbformat_minor": 2
}
