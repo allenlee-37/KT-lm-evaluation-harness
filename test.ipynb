{
 "cells": [
  {
   "cell_type": "code",
   "execution_count": 10,
   "metadata": {},
   "outputs": [],
   "source": [
    "import json\n",
    "import pandas as pd\n",
    "\n",
    "# JSONL 파일 경로\n",
    "file_path = '/Users/master/Documents/work/KT/lm-evaluation-harness/output/gpt-4o/musr_prompt_수정전/samples_leaderboard_musr_murder_mysteries_2024-11-21T23-54-01.536172.jsonl'\n",
    "\n",
    "# JSONL 파일 읽기\n",
    "data = []\n",
    "with open(file_path, 'r', encoding='utf-8') as file:\n",
    "    for line in file:\n",
    "        try:\n",
    "            # 각 줄을 JSON 객체로 변환하여 리스트에 추가\n",
    "            data.append(json.loads(line))\n",
    "        except json.JSONDecodeError as e:\n",
    "            print(f\"JSONDecodeError: {e} - Line: {line}\")"
   ]
  },
  {
   "cell_type": "code",
   "execution_count": null,
   "metadata": {},
   "outputs": [],
   "source": []
  },
  {
   "cell_type": "code",
   "execution_count": 11,
   "metadata": {},
   "outputs": [
    {
     "data": {
      "text/plain": [
       "{'gen_args_0': {'arg_0': ['[{\"role\": \"user\", \"content\": \"Please answer the following question with (a), (b), (c), (d) \\\\n\\\\nIn an adrenaline inducing bungee jumping site, Mack\\'s thrill-seeking adventure came to a gruesome end by a nunchaku; now, it\\'s up to Detective Winston to unravel the deadly secrets between Mackenzie and Ana.\\\\n\\\\nWinston took a gulp of his black coffee, staring at the notes sprawled across his desk. A murder case at a bungee jumping site was definitely out of the ordinary. Today\\'s victim was a young man named Mack, loud mouthed and cocky by all accounts. \\\\n\\\\nMack was bungee jumping the day he was killed. Oddly enough, according to the records, no one else was documented at the bungee jumping site that day, making this case even more peculiar. The first stop for the day was to visit one of Mack\\'s housemates, a woman named Ana. They were seen leaving in the same vehicle from their shared housing complex the morning of the murder, and it was time for Winston to dig deeper. \\\\n\\\\nAs he pulled into the shared housing driveway, a nondescript car came into sight. He learned from neighbours that it was frequently used by multiple residents, but Ana had a peculiar interest in it. She would insist on driving whenever with a group of friends, later meticulously cleaning the car after each use. An idiosyncrasy of hers maybe, but a part of the puzzle nonetheless.\\\\n\\\\nWinston knocked on the door, Ana opened it warily, twiddling a cleaning cloth and spray in her hands and greeted him with a nervous nod. Ana gets nervous and fidgets with the cleaner and cloth when questioned. Winston could sense palpable unease as he started asking her questions.\\\\n\\\\n\\\\\"Ana, did you not join Mack and the others for bungee jumping today?\\\\\" Winston questioned, to which she responded, \\\\\"I signed up to jump. But I didn\\'t end up going through with it.\\\\\"\\\\n\\\\n\\\\\"Any particular reason you didn\\'t join the others, Ana?\\\\\" Winston proceeded. \\\\n\\\\nAna took a deep breath, \\\\\"Well sir, my faith doesn\\'t really permit bungee jumping. Truth be told, I was persuaded strongly by Mack. I had even signed up out of peer pressure but couldn\\'t push myself.\\\\\"\\\\n\\\\nIt was true \\\\u2013 Mack was insisting that everyone in the group should bungee jump. Mack had reportedly also been vocal about ridiculing Ana\\\\u2019s faith, even encouraging others to join him in doing so. It was a significant factor in their relationship.\\\\n\\\\n\\\\\"Ana, did you and Mack leave in the same car for the bungee jumping event this morning?\\\\\" Winston gently pushed further.\\\\n\\\\n\\\\\"Yes. Yes, we did. We always carpool.\\\\\" She responded while anxiously using the cleaner and cloth on her car\\\\u2019s dashboard. Her eyes flickered nervously back to Winston, expecting the next question.\\\\n\\\\nWinston took a deep breath, standing up to leave, \\\\\"Alright Ana, that should cover everything for now. We\\'ll be in touch.\\\\\"\\\\n\\\\nAna nervously nodded without looking up from her cleaning, wringing the cloth repeatedly as Winston walked away, left again with another piece to the enigmatic puzzle of Mack\\'s murder.\\\\n\\\\nThe day was getting older and Winston was getting more tired, but the case was fresh, and he wasn\\'t one to back down. He tugged on his coat as he approached the bashful teen waiting for him by the police station.\\\\n\\\\n\\\\\"Mackenzie, it is?\\\\\" he asked, extending his hand.\\\\n\\\\n\\\\\"Yeah, that\\'s right.\\\\\" The slight lisp, overlaid with blanket anxiety, confirmed what the school reports suggested.\\\\n\\\\n\\\\\"You were at the site when Mack... erm... you know,\\\\\" Winston\\'s voice was methodical, calm -- almost robotic. The suspicion on Mackenzie was not unfounded - the security cameras showed him buying nunchaku a week before. \\\\n\\\\nMackenzie shifted on his feet, looking away before answering, \\\\\"Yeah, I was there.\\\\\"\\\\n\\\\nWinston pulled out a small notebook, \\\\\"What were you doing there, Mackenzie?\\\\u201d\\\\n\\\\n\\\\u201cBungee jumping, like Mack\\\\u2026 Then I left. I didn\\'t... I didn\\'t do anything\\\\u2026\\\\u201d Mackenzie replied.\\\\n\\\\nInternally, Winston sighed at the never-ending waterfall of teenage angst this case was turning into. \\\\n\\\\n\\\\u201cMartial arts, huh?\\\\u201d Winston segued, gesturing to a bruise on Mackenzie\\\\u2019s knuckles. \\\\u201cNunchaku particularly, I see? Training does include the use of those, correct?\\\\u201d \\\\n\\\\nThe change in Mackenzie\\\\u2019s demeanor mirrored the bitterness in the last month\\\\u2019s weather \\\\u2013 dark eyes replaced with ice-cold ones. \\\\u201cYeah,\\\\u201d he admitted, shrinking slightly.\\\\n\\\\nMackenzie always took pride in being the best at everything. So when Mack got everything he wanted - the promotion to team captain, the respect, the attention - it was a hard pill for Mackenzie to swallow. Winston remembered the team talk, Mackenzie was indeed the top candidate but it had gone to Mack instead. \\\\n\\\\nWhat clinched it was Mackenzie\\\\u2019s remarks about Mack, echoing whispers of dispute and bickering, lost in the crowded lunchroom. There were also multiple witness reports of the two seen arguing at the bungee jumping site previously. Mackenzie had indeed said disparaging, almost emotional things about Mack \\\\u2013 all stemming from a potent brew of jealousy, Winston inferred.\\\\n\\\\nShifting later through the detritus of Mackenzie\\'s life, Winston discovered the nunchaku that matched the forensics report. They were tucked away, but the layer of dust suggested they weren\\'t a favored possession anymore. It wasn\\\\u2019t hidden, it was misplaced \\\\u2013 discarded in the throes of developing maturity.\\\\n\\\\nAs the sun started to set, Winston could see witnesses, scattered across the park, repeatedly pointing to the bungee jumping scaffolding. It occurred to him, then, the narrative of the past days. Mackenzie, jealous and wronged, over and over, at the same sight. It was quite a sight. \\\\n\\\\nWinston, shuffling back to the station, was left with one thought - Looks like Mackenzie had quite an eventful week.\\\\n\\\\nWho is the most likely murderer?\\\\n\\\\n(a) - Mackenzie\\\\n(b) - Ana\\\\n\\\\nAnswer:\"}]'],\n",
       "  'arg_1': {'until': ['\\n\\n'], 'do_sample': False}}}"
      ]
     },
     "execution_count": 11,
     "metadata": {},
     "output_type": "execute_result"
    }
   ],
   "source": [
    "data[0].keys()\n",
    "data[0].get('arguments')"
   ]
  },
  {
   "cell_type": "code",
   "execution_count": 12,
   "metadata": {},
   "outputs": [
    {
     "data": {
      "text/html": [
       "<div>\n",
       "<style scoped>\n",
       "    .dataframe tbody tr th:only-of-type {\n",
       "        vertical-align: middle;\n",
       "    }\n",
       "\n",
       "    .dataframe tbody tr th {\n",
       "        vertical-align: top;\n",
       "    }\n",
       "\n",
       "    .dataframe thead th {\n",
       "        text-align: right;\n",
       "    }\n",
       "</style>\n",
       "<table border=\"1\" class=\"dataframe\">\n",
       "  <thead>\n",
       "    <tr style=\"text-align: right;\">\n",
       "      <th></th>\n",
       "      <th>targets</th>\n",
       "      <th>responses</th>\n",
       "      <th>filtered_responses</th>\n",
       "      <th>scores</th>\n",
       "    </tr>\n",
       "  </thead>\n",
       "  <tbody>\n",
       "    <tr>\n",
       "      <th>0</th>\n",
       "      <td>(`)</td>\n",
       "      <td>[[(a) - Mackenzie]]</td>\n",
       "      <td>[(a)]</td>\n",
       "      <td>0.0</td>\n",
       "    </tr>\n",
       "    <tr>\n",
       "      <th>1</th>\n",
       "      <td>(a)</td>\n",
       "      <td>[[(b) - Ana]]</td>\n",
       "      <td>[(b)]</td>\n",
       "      <td>0.0</td>\n",
       "    </tr>\n",
       "    <tr>\n",
       "      <th>2</th>\n",
       "      <td>(`)</td>\n",
       "      <td>[[(b) - Rosemary]]</td>\n",
       "      <td>[(b)]</td>\n",
       "      <td>0.0</td>\n",
       "    </tr>\n",
       "    <tr>\n",
       "      <th>3</th>\n",
       "      <td>(a)</td>\n",
       "      <td>[[(a) - Harry]]</td>\n",
       "      <td>[(a)]</td>\n",
       "      <td>1.0</td>\n",
       "    </tr>\n",
       "    <tr>\n",
       "      <th>4</th>\n",
       "      <td>(`)</td>\n",
       "      <td>[[(b) - Emma]]</td>\n",
       "      <td>[(b)]</td>\n",
       "      <td>0.0</td>\n",
       "    </tr>\n",
       "    <tr>\n",
       "      <th>...</th>\n",
       "      <td>...</td>\n",
       "      <td>...</td>\n",
       "      <td>...</td>\n",
       "      <td>...</td>\n",
       "    </tr>\n",
       "    <tr>\n",
       "      <th>245</th>\n",
       "      <td>(a)</td>\n",
       "      <td>[[(b) - Daisy]]</td>\n",
       "      <td>[(b)]</td>\n",
       "      <td>0.0</td>\n",
       "    </tr>\n",
       "    <tr>\n",
       "      <th>246</th>\n",
       "      <td>(`)</td>\n",
       "      <td>[[(a) - Van]]</td>\n",
       "      <td>[(a)]</td>\n",
       "      <td>0.0</td>\n",
       "    </tr>\n",
       "    <tr>\n",
       "      <th>247</th>\n",
       "      <td>(a)</td>\n",
       "      <td>[[(b) - Wilfred]]</td>\n",
       "      <td>[(b)]</td>\n",
       "      <td>0.0</td>\n",
       "    </tr>\n",
       "    <tr>\n",
       "      <th>248</th>\n",
       "      <td>(`)</td>\n",
       "      <td>[[(a) - Marianne]]</td>\n",
       "      <td>[(a)]</td>\n",
       "      <td>0.0</td>\n",
       "    </tr>\n",
       "    <tr>\n",
       "      <th>249</th>\n",
       "      <td>(a)</td>\n",
       "      <td>[[(b) - Sidney]]</td>\n",
       "      <td>[(b)]</td>\n",
       "      <td>0.0</td>\n",
       "    </tr>\n",
       "  </tbody>\n",
       "</table>\n",
       "<p>250 rows × 4 columns</p>\n",
       "</div>"
      ],
      "text/plain": [
       "    targets            responses filtered_responses  scores\n",
       "0       (`)  [[(a) - Mackenzie]]              [(a)]     0.0\n",
       "1       (a)        [[(b) - Ana]]              [(b)]     0.0\n",
       "2       (`)   [[(b) - Rosemary]]              [(b)]     0.0\n",
       "3       (a)      [[(a) - Harry]]              [(a)]     1.0\n",
       "4       (`)       [[(b) - Emma]]              [(b)]     0.0\n",
       "..      ...                  ...                ...     ...\n",
       "245     (a)      [[(b) - Daisy]]              [(b)]     0.0\n",
       "246     (`)        [[(a) - Van]]              [(a)]     0.0\n",
       "247     (a)    [[(b) - Wilfred]]              [(b)]     0.0\n",
       "248     (`)   [[(a) - Marianne]]              [(a)]     0.0\n",
       "249     (a)     [[(b) - Sidney]]              [(b)]     0.0\n",
       "\n",
       "[250 rows x 4 columns]"
      ]
     },
     "execution_count": 12,
     "metadata": {},
     "output_type": "execute_result"
    }
   ],
   "source": [
    "targets = []\n",
    "responses = []\n",
    "filtered_responses = [] \n",
    "scores = []\n",
    "for index, item in enumerate(data):\n",
    "    targets.append(item.get('target'))\n",
    "    responses.append(item.get('resps'))\n",
    "    filtered_responses.append(item.get('filtered_resps'))\n",
    "    scores.append(item.get('exact_match'))\n",
    "\n",
    "df = pd.DataFrame({'targets': targets, 'responses': responses, 'filtered_responses': filtered_responses, 'scores': scores})\n",
    "# df[df['scores'] == 1.0]\n",
    "df"
   ]
  },
  {
   "cell_type": "code",
   "execution_count": null,
   "metadata": {},
   "outputs": [],
   "source": []
  },
  {
   "cell_type": "code",
   "execution_count": null,
   "metadata": {},
   "outputs": [],
   "source": []
  }
 ],
 "metadata": {
  "kernelspec": {
   "display_name": "vllm",
   "language": "python",
   "name": "python3"
  },
  "language_info": {
   "codemirror_mode": {
    "name": "ipython",
    "version": 3
   },
   "file_extension": ".py",
   "mimetype": "text/x-python",
   "name": "python",
   "nbconvert_exporter": "python",
   "pygments_lexer": "ipython3",
   "version": "3.13.0"
  }
 },
 "nbformat": 4,
 "nbformat_minor": 2
}
